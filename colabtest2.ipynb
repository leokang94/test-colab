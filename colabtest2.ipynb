{
  "nbformat": 4,
  "nbformat_minor": 0,
  "metadata": {
    "colab": {
      "provenance": [],
      "authorship_tag": "ABX9TyM9iBgwkDXVJdkAl1z9+70V",
      "include_colab_link": true
    },
    "kernelspec": {
      "name": "python3",
      "display_name": "Python 3"
    },
    "language_info": {
      "name": "python"
    }
  },
  "cells": [
    {
      "cell_type": "markdown",
      "metadata": {
        "id": "view-in-github",
        "colab_type": "text"
      },
      "source": [
        "<a href=\"https://colab.research.google.com/github/leokang94/test-colab/blob/master/colabtest2.ipynb\" target=\"_parent\"><img src=\"https://colab.research.google.com/assets/colab-badge.svg\" alt=\"Open In Colab\"/></a>"
      ]
    },
    {
      "cell_type": "code",
      "execution_count": 3,
      "metadata": {
        "colab": {
          "base_uri": "https://localhost:8080/"
        },
        "id": "XbbYCFuBq9zp",
        "outputId": "6150b3c9-5fe6-4d60-a8f0-c22739a175a6"
      },
      "outputs": [
        {
          "output_type": "stream",
          "name": "stdout",
          "text": [
            "message printed..! : 안녕하세용\n"
          ]
        }
      ],
      "source": [
        "def printMessage(message):\n",
        "  print(f\"message printed..! : {message}\")\n",
        "\n",
        "printMessage('안녕하세용')"
      ]
    },
    {
      "cell_type": "code",
      "source": [
        "from google.colab import drive\n",
        "drive.mount('/content/drive')"
      ],
      "metadata": {
        "id": "-nO_hoWZsola"
      },
      "execution_count": null,
      "outputs": []
    },
    {
      "cell_type": "code",
      "source": [
        "printMessage('응')"
      ],
      "metadata": {
        "id": "RPoLKNQmuYON",
        "outputId": "fc51e478-6a3b-467b-986f-c6c21a550593",
        "colab": {
          "base_uri": "https://localhost:8080/"
        }
      },
      "execution_count": 4,
      "outputs": [
        {
          "output_type": "stream",
          "name": "stdout",
          "text": [
            "message printed..! : 응\n"
          ]
        }
      ]
    }
  ]
}