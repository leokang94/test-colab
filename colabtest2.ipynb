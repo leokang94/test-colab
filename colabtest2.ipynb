{
  "nbformat": 4,
  "nbformat_minor": 0,
  "metadata": {
    "colab": {
      "provenance": [],
      "authorship_tag": "ABX9TyNkerOtOQLr4i2bzA08Yr8c",
      "include_colab_link": true
    },
    "kernelspec": {
      "name": "python3",
      "display_name": "Python 3"
    },
    "language_info": {
      "name": "python"
    }
  },
  "cells": [
    {
      "cell_type": "markdown",
      "metadata": {
        "id": "view-in-github",
        "colab_type": "text"
      },
      "source": [
        "<a href=\"https://colab.research.google.com/github/leokang94/test-colab/blob/master/colabtest2.ipynb\" target=\"_parent\"><img src=\"https://colab.research.google.com/assets/colab-badge.svg\" alt=\"Open In Colab\"/></a>"
      ]
    },
    {
      "cell_type": "code",
      "execution_count": 2,
      "metadata": {
        "colab": {
          "base_uri": "https://localhost:8080/"
        },
        "id": "XbbYCFuBq9zp",
        "outputId": "1d1f5bd8-223d-4959-c39f-6c1f0f662113"
      },
      "outputs": [
        {
          "output_type": "stream",
          "name": "stdout",
          "text": [
            "message printed..! : 안녕하세용\n"
          ]
        }
      ],
      "source": [
        "def printMessage(message):\n",
        "  print(f\"message printed..! : {message}\")\n",
        "\n",
        "printMessage('안녕하세용')"
      ]
    },
    {
      "cell_type": "code",
      "source": [
        "from google.colab import drive\n",
        "drive.mount('/content/drive')"
      ],
      "metadata": {
        "id": "-nO_hoWZsola"
      },
      "execution_count": null,
      "outputs": []
    }
  ]
}